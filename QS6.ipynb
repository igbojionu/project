{
 "cells": [
  {
   "attachments": {},
   "cell_type": "markdown",
   "metadata": {},
   "source": [
    "6. What additional data would you recommend for the bank to collect in order to make better credit risk predictions? What challenges do you anticipate?"
   ]
  },
  {
   "attachments": {},
   "cell_type": "markdown",
   "metadata": {},
   "source": [
    "There are a number of additional data points that the bank could collect in order to make better credit risk predictions. These include the borrower's employment history, their credit history, and their debt-to-income ratio.\n",
    "\n",
    "The challenges that the bank may face in collecting this additional data include the cost of collecting the data, the time it takes to collect the data, and the accuracy of the data. The bank will need to weigh the benefits of collecting additional data against the costs and challenges involved."
   ]
  },
  {
   "cell_type": "code",
   "execution_count": 8,
   "metadata": {},
   "outputs": [
    {
     "name": "stdout",
     "output_type": "stream",
     "text": [
      "              ID  MONTHS_BALANCE STATUS Credit History\n",
      "0        5001711               0      X        Current\n",
      "1        5001711              -1      0       Paid Off\n",
      "2        5001711              -2      0       Paid Off\n",
      "3        5001711              -3      0       Paid Off\n",
      "4        5001712               0      C        Current\n",
      "...          ...             ...    ...            ...\n",
      "1048570  5150487             -25      C       Paid Off\n",
      "1048571  5150487             -26      C       Paid Off\n",
      "1048572  5150487             -27      C       Paid Off\n",
      "1048573  5150487             -28      C       Paid Off\n",
      "1048574  5150487             -29      C       Paid Off\n",
      "\n",
      "[1048575 rows x 4 columns]\n"
     ]
    }
   ],
   "source": [
    "import pandas as pd\n",
    "\n",
    "# Load the data\n",
    "data = pd.read_csv(\"credit_record.csv\")\n",
    "\n",
    "# Define a function to determine credit history based on Months Balance\n",
    "def get_credit_history(balance):\n",
    "    if balance > 0:\n",
    "        return \"Delinquent\"\n",
    "    elif balance == 0:\n",
    "        return \"Current\"\n",
    "    else:\n",
    "        return \"Paid Off\"\n",
    "\n",
    "# Apply the function to create the Credit History column\n",
    "data[\"Credit History\"] = data[\"MONTHS_BALANCE\"].apply(get_credit_history)\n",
    "\n",
    "# Print the resulting dataframe\n",
    "print(data)\n"
   ]
  },
  {
   "attachments": {},
   "cell_type": "markdown",
   "metadata": {},
   "source": [
    "Code 1: Checking Credit History based on Months Balance"
   ]
  },
  {
   "cell_type": "code",
   "execution_count": 7,
   "metadata": {},
   "outputs": [
    {
     "name": "stdout",
     "output_type": "stream",
     "text": [
      "             ID CODE_GENDER FLAG_OWN_CAR FLAG_OWN_REALTY  CNT_CHILDREN   \n",
      "0       5008804           M            Y               Y             0  \\\n",
      "1       5008804           M            Y               Y             0   \n",
      "2       5008804           M            Y               Y             0   \n",
      "3       5008804           M            Y               Y             0   \n",
      "4       5008804           M            Y               Y             0   \n",
      "...         ...         ...          ...             ...           ...   \n",
      "777710  5150337           M            N               Y             0   \n",
      "777711  5150337           M            N               Y             0   \n",
      "777712  5150337           M            N               Y             0   \n",
      "777713  5150337           M            N               Y             0   \n",
      "777714  5150337           M            N               Y             0   \n",
      "\n",
      "        AMT_INCOME_TOTAL NAME_INCOME_TYPE            NAME_EDUCATION_TYPE   \n",
      "0               427500.0          Working               Higher education  \\\n",
      "1               427500.0          Working               Higher education   \n",
      "2               427500.0          Working               Higher education   \n",
      "3               427500.0          Working               Higher education   \n",
      "4               427500.0          Working               Higher education   \n",
      "...                  ...              ...                            ...   \n",
      "777710          112500.0          Working  Secondary / secondary special   \n",
      "777711          112500.0          Working  Secondary / secondary special   \n",
      "777712          112500.0          Working  Secondary / secondary special   \n",
      "777713          112500.0          Working  Secondary / secondary special   \n",
      "777714          112500.0          Working  Secondary / secondary special   \n",
      "\n",
      "          NAME_FAMILY_STATUS NAME_HOUSING_TYPE  ...  FLAG_MOBIL   \n",
      "0             Civil marriage  Rented apartment  ...           1  \\\n",
      "1             Civil marriage  Rented apartment  ...           1   \n",
      "2             Civil marriage  Rented apartment  ...           1   \n",
      "3             Civil marriage  Rented apartment  ...           1   \n",
      "4             Civil marriage  Rented apartment  ...           1   \n",
      "...                      ...               ...  ...         ...   \n",
      "777710  Single / not married  Rented apartment  ...           1   \n",
      "777711  Single / not married  Rented apartment  ...           1   \n",
      "777712  Single / not married  Rented apartment  ...           1   \n",
      "777713  Single / not married  Rented apartment  ...           1   \n",
      "777714  Single / not married  Rented apartment  ...           1   \n",
      "\n",
      "        FLAG_WORK_PHONE  FLAG_PHONE  FLAG_EMAIL  OCCUPATION_TYPE   \n",
      "0                     1           0           0              NaN  \\\n",
      "1                     1           0           0              NaN   \n",
      "2                     1           0           0              NaN   \n",
      "3                     1           0           0              NaN   \n",
      "4                     1           0           0              NaN   \n",
      "...                 ...         ...         ...              ...   \n",
      "777710                0           0           0         Laborers   \n",
      "777711                0           0           0         Laborers   \n",
      "777712                0           0           0         Laborers   \n",
      "777713                0           0           0         Laborers   \n",
      "777714                0           0           0         Laborers   \n",
      "\n",
      "        CNT_FAM_MEMBERS MONTHS_BALANCE  STATUS  Total Debt   \n",
      "0                   2.0              0       C        -120  \\\n",
      "1                   2.0             -1       C        -120   \n",
      "2                   2.0             -2       C        -120   \n",
      "3                   2.0             -3       C        -120   \n",
      "4                   2.0             -4       C        -120   \n",
      "...                 ...            ...     ...         ...   \n",
      "777710              1.0             -9       0         -91   \n",
      "777711              1.0            -10       2         -91   \n",
      "777712              1.0            -11       1         -91   \n",
      "777713              1.0            -12       0         -91   \n",
      "777714              1.0            -13       0         -91   \n",
      "\n",
      "       DEBT_TO_INCOME_RATIO  \n",
      "0                  0.000000  \n",
      "1                 -0.000234  \n",
      "2                 -0.000468  \n",
      "3                 -0.000702  \n",
      "4                 -0.000936  \n",
      "...                     ...  \n",
      "777710            -0.008000  \n",
      "777711            -0.008889  \n",
      "777712            -0.009778  \n",
      "777713            -0.010667  \n",
      "777714            -0.011556  \n",
      "\n",
      "[777715 rows x 22 columns]\n"
     ]
    }
   ],
   "source": [
    "import pandas as pd\n",
    "\n",
    "# Load the data\n",
    "application_data = pd.read_csv(\"application_record.csv\")\n",
    "credit_data = pd.read_csv(\"credit_record.csv\")\n",
    "\n",
    "# Merge the application and credit record datasets based on the client ID\n",
    "merged_data = pd.merge(application_data, credit_data, on=\"ID\")\n",
    "\n",
    "# Calculate the total debt for each borrower\n",
    "merged_data[\"Total Debt\"] = merged_data.groupby(\"ID\")[\"MONTHS_BALANCE\"].transform(\"sum\")\n",
    "\n",
    "# Calculate the debt-to-income ratio\n",
    "merged_data[\"DEBT_TO_INCOME_RATIO\"] = (merged_data[\"MONTHS_BALANCE\"] / merged_data[\"AMT_INCOME_TOTAL\"]) * 100\n",
    "\n",
    "# Print the resulting dataframe\n",
    "print(merged_data)\n"
   ]
  }
 ],
 "metadata": {
  "kernelspec": {
   "display_name": "Python 3",
   "language": "python",
   "name": "python3"
  },
  "language_info": {
   "codemirror_mode": {
    "name": "ipython",
    "version": 3
   },
   "file_extension": ".py",
   "mimetype": "text/x-python",
   "name": "python",
   "nbconvert_exporter": "python",
   "pygments_lexer": "ipython3",
   "version": "3.11.2"
  },
  "orig_nbformat": 4
 },
 "nbformat": 4,
 "nbformat_minor": 2
}
